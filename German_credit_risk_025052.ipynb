{
 "cells": [
  {
   "cell_type": "code",
   "execution_count": 2,
   "id": "e1d1d71b",
   "metadata": {},
   "outputs": [],
   "source": [
    "import numpy as np\n",
    "import pandas as pd\n",
    "from matplotlib import pyplot as plt\n",
    "from sklearn.datasets import load_breast_cancer\n",
    "from sklearn.metrics import confusion_matrix\n",
    "from sklearn.neighbors import KNeighborsClassifier\n",
    "from sklearn.model_selection import train_test_split\n",
    "import seaborn as sns\n",
    "sns.set()"
   ]
  },
  {
   "cell_type": "code",
   "execution_count": 3,
   "id": "343c388a",
   "metadata": {},
   "outputs": [],
   "source": [
    "df= pd.read_csv(\"E:\\FSM\\TERMS\\TERM 3\\MLP\\Assignments\\german_credit_data.csv\")"
   ]
  },
  {
   "cell_type": "code",
   "execution_count": 4,
   "id": "88c6b393",
   "metadata": {},
   "outputs": [
    {
     "data": {
      "text/html": [
       "<div>\n",
       "<style scoped>\n",
       "    .dataframe tbody tr th:only-of-type {\n",
       "        vertical-align: middle;\n",
       "    }\n",
       "\n",
       "    .dataframe tbody tr th {\n",
       "        vertical-align: top;\n",
       "    }\n",
       "\n",
       "    .dataframe thead th {\n",
       "        text-align: right;\n",
       "    }\n",
       "</style>\n",
       "<table border=\"1\" class=\"dataframe\">\n",
       "  <thead>\n",
       "    <tr style=\"text-align: right;\">\n",
       "      <th></th>\n",
       "      <th>Unnamed: 0</th>\n",
       "      <th>Age</th>\n",
       "      <th>Sex</th>\n",
       "      <th>Job</th>\n",
       "      <th>Housing</th>\n",
       "      <th>Saving accounts</th>\n",
       "      <th>Checking account</th>\n",
       "      <th>Credit amount</th>\n",
       "      <th>Duration</th>\n",
       "      <th>Purpose</th>\n",
       "      <th>Risk</th>\n",
       "    </tr>\n",
       "  </thead>\n",
       "  <tbody>\n",
       "    <tr>\n",
       "      <th>0</th>\n",
       "      <td>0</td>\n",
       "      <td>67</td>\n",
       "      <td>male</td>\n",
       "      <td>2</td>\n",
       "      <td>own</td>\n",
       "      <td>NaN</td>\n",
       "      <td>little</td>\n",
       "      <td>1169</td>\n",
       "      <td>6</td>\n",
       "      <td>radio/TV</td>\n",
       "      <td>good</td>\n",
       "    </tr>\n",
       "    <tr>\n",
       "      <th>1</th>\n",
       "      <td>1</td>\n",
       "      <td>22</td>\n",
       "      <td>female</td>\n",
       "      <td>2</td>\n",
       "      <td>own</td>\n",
       "      <td>little</td>\n",
       "      <td>moderate</td>\n",
       "      <td>5951</td>\n",
       "      <td>48</td>\n",
       "      <td>radio/TV</td>\n",
       "      <td>bad</td>\n",
       "    </tr>\n",
       "    <tr>\n",
       "      <th>2</th>\n",
       "      <td>2</td>\n",
       "      <td>49</td>\n",
       "      <td>male</td>\n",
       "      <td>1</td>\n",
       "      <td>own</td>\n",
       "      <td>little</td>\n",
       "      <td>NaN</td>\n",
       "      <td>2096</td>\n",
       "      <td>12</td>\n",
       "      <td>education</td>\n",
       "      <td>good</td>\n",
       "    </tr>\n",
       "    <tr>\n",
       "      <th>3</th>\n",
       "      <td>3</td>\n",
       "      <td>45</td>\n",
       "      <td>male</td>\n",
       "      <td>2</td>\n",
       "      <td>free</td>\n",
       "      <td>little</td>\n",
       "      <td>little</td>\n",
       "      <td>7882</td>\n",
       "      <td>42</td>\n",
       "      <td>furniture/equipment</td>\n",
       "      <td>good</td>\n",
       "    </tr>\n",
       "    <tr>\n",
       "      <th>4</th>\n",
       "      <td>4</td>\n",
       "      <td>53</td>\n",
       "      <td>male</td>\n",
       "      <td>2</td>\n",
       "      <td>free</td>\n",
       "      <td>little</td>\n",
       "      <td>little</td>\n",
       "      <td>4870</td>\n",
       "      <td>24</td>\n",
       "      <td>car</td>\n",
       "      <td>bad</td>\n",
       "    </tr>\n",
       "  </tbody>\n",
       "</table>\n",
       "</div>"
      ],
      "text/plain": [
       "   Unnamed: 0  Age     Sex  Job Housing Saving accounts Checking account  \\\n",
       "0           0   67    male    2     own             NaN           little   \n",
       "1           1   22  female    2     own          little         moderate   \n",
       "2           2   49    male    1     own          little              NaN   \n",
       "3           3   45    male    2    free          little           little   \n",
       "4           4   53    male    2    free          little           little   \n",
       "\n",
       "   Credit amount  Duration              Purpose  Risk  \n",
       "0           1169         6             radio/TV  good  \n",
       "1           5951        48             radio/TV   bad  \n",
       "2           2096        12            education  good  \n",
       "3           7882        42  furniture/equipment  good  \n",
       "4           4870        24                  car   bad  "
      ]
     },
     "execution_count": 4,
     "metadata": {},
     "output_type": "execute_result"
    }
   ],
   "source": [
    "df.head()"
   ]
  },
  {
   "cell_type": "code",
   "execution_count": 5,
   "id": "b51fb516",
   "metadata": {},
   "outputs": [
    {
     "data": {
      "text/html": [
       "<div>\n",
       "<style scoped>\n",
       "    .dataframe tbody tr th:only-of-type {\n",
       "        vertical-align: middle;\n",
       "    }\n",
       "\n",
       "    .dataframe tbody tr th {\n",
       "        vertical-align: top;\n",
       "    }\n",
       "\n",
       "    .dataframe thead th {\n",
       "        text-align: right;\n",
       "    }\n",
       "</style>\n",
       "<table border=\"1\" class=\"dataframe\">\n",
       "  <thead>\n",
       "    <tr style=\"text-align: right;\">\n",
       "      <th></th>\n",
       "      <th>Unnamed: 0</th>\n",
       "      <th>Age</th>\n",
       "      <th>Sex</th>\n",
       "      <th>Job</th>\n",
       "      <th>Housing</th>\n",
       "      <th>Saving accounts</th>\n",
       "      <th>Checking account</th>\n",
       "      <th>Credit amount</th>\n",
       "      <th>Duration</th>\n",
       "      <th>Purpose</th>\n",
       "      <th>Risk</th>\n",
       "    </tr>\n",
       "  </thead>\n",
       "  <tbody>\n",
       "    <tr>\n",
       "      <th>995</th>\n",
       "      <td>995</td>\n",
       "      <td>31</td>\n",
       "      <td>female</td>\n",
       "      <td>1</td>\n",
       "      <td>own</td>\n",
       "      <td>little</td>\n",
       "      <td>NaN</td>\n",
       "      <td>1736</td>\n",
       "      <td>12</td>\n",
       "      <td>furniture/equipment</td>\n",
       "      <td>good</td>\n",
       "    </tr>\n",
       "    <tr>\n",
       "      <th>996</th>\n",
       "      <td>996</td>\n",
       "      <td>40</td>\n",
       "      <td>male</td>\n",
       "      <td>3</td>\n",
       "      <td>own</td>\n",
       "      <td>little</td>\n",
       "      <td>little</td>\n",
       "      <td>3857</td>\n",
       "      <td>30</td>\n",
       "      <td>car</td>\n",
       "      <td>good</td>\n",
       "    </tr>\n",
       "    <tr>\n",
       "      <th>997</th>\n",
       "      <td>997</td>\n",
       "      <td>38</td>\n",
       "      <td>male</td>\n",
       "      <td>2</td>\n",
       "      <td>own</td>\n",
       "      <td>little</td>\n",
       "      <td>NaN</td>\n",
       "      <td>804</td>\n",
       "      <td>12</td>\n",
       "      <td>radio/TV</td>\n",
       "      <td>good</td>\n",
       "    </tr>\n",
       "    <tr>\n",
       "      <th>998</th>\n",
       "      <td>998</td>\n",
       "      <td>23</td>\n",
       "      <td>male</td>\n",
       "      <td>2</td>\n",
       "      <td>free</td>\n",
       "      <td>little</td>\n",
       "      <td>little</td>\n",
       "      <td>1845</td>\n",
       "      <td>45</td>\n",
       "      <td>radio/TV</td>\n",
       "      <td>bad</td>\n",
       "    </tr>\n",
       "    <tr>\n",
       "      <th>999</th>\n",
       "      <td>999</td>\n",
       "      <td>27</td>\n",
       "      <td>male</td>\n",
       "      <td>2</td>\n",
       "      <td>own</td>\n",
       "      <td>moderate</td>\n",
       "      <td>moderate</td>\n",
       "      <td>4576</td>\n",
       "      <td>45</td>\n",
       "      <td>car</td>\n",
       "      <td>good</td>\n",
       "    </tr>\n",
       "  </tbody>\n",
       "</table>\n",
       "</div>"
      ],
      "text/plain": [
       "     Unnamed: 0  Age     Sex  Job Housing Saving accounts Checking account  \\\n",
       "995         995   31  female    1     own          little              NaN   \n",
       "996         996   40    male    3     own          little           little   \n",
       "997         997   38    male    2     own          little              NaN   \n",
       "998         998   23    male    2    free          little           little   \n",
       "999         999   27    male    2     own        moderate         moderate   \n",
       "\n",
       "     Credit amount  Duration              Purpose  Risk  \n",
       "995           1736        12  furniture/equipment  good  \n",
       "996           3857        30                  car  good  \n",
       "997            804        12             radio/TV  good  \n",
       "998           1845        45             radio/TV   bad  \n",
       "999           4576        45                  car  good  "
      ]
     },
     "execution_count": 5,
     "metadata": {},
     "output_type": "execute_result"
    }
   ],
   "source": [
    "df.tail()"
   ]
  },
  {
   "cell_type": "code",
   "execution_count": 6,
   "id": "0013f783",
   "metadata": {},
   "outputs": [
    {
     "data": {
      "text/plain": [
       "(1000, 11)"
      ]
     },
     "execution_count": 6,
     "metadata": {},
     "output_type": "execute_result"
    }
   ],
   "source": [
    "df.shape"
   ]
  },
  {
   "cell_type": "code",
   "execution_count": 7,
   "id": "d630904a",
   "metadata": {},
   "outputs": [],
   "source": [
    "df.drop(['Unnamed: 0',],axis=1,inplace=True)"
   ]
  },
  {
   "cell_type": "code",
   "execution_count": 8,
   "id": "53047b9b",
   "metadata": {},
   "outputs": [
    {
     "data": {
      "text/html": [
       "<div>\n",
       "<style scoped>\n",
       "    .dataframe tbody tr th:only-of-type {\n",
       "        vertical-align: middle;\n",
       "    }\n",
       "\n",
       "    .dataframe tbody tr th {\n",
       "        vertical-align: top;\n",
       "    }\n",
       "\n",
       "    .dataframe thead th {\n",
       "        text-align: right;\n",
       "    }\n",
       "</style>\n",
       "<table border=\"1\" class=\"dataframe\">\n",
       "  <thead>\n",
       "    <tr style=\"text-align: right;\">\n",
       "      <th></th>\n",
       "      <th>Age</th>\n",
       "      <th>Sex</th>\n",
       "      <th>Job</th>\n",
       "      <th>Housing</th>\n",
       "      <th>Saving accounts</th>\n",
       "      <th>Checking account</th>\n",
       "      <th>Credit amount</th>\n",
       "      <th>Duration</th>\n",
       "      <th>Purpose</th>\n",
       "      <th>Risk</th>\n",
       "    </tr>\n",
       "  </thead>\n",
       "  <tbody>\n",
       "    <tr>\n",
       "      <th>0</th>\n",
       "      <td>67</td>\n",
       "      <td>male</td>\n",
       "      <td>2</td>\n",
       "      <td>own</td>\n",
       "      <td>NaN</td>\n",
       "      <td>little</td>\n",
       "      <td>1169</td>\n",
       "      <td>6</td>\n",
       "      <td>radio/TV</td>\n",
       "      <td>good</td>\n",
       "    </tr>\n",
       "    <tr>\n",
       "      <th>1</th>\n",
       "      <td>22</td>\n",
       "      <td>female</td>\n",
       "      <td>2</td>\n",
       "      <td>own</td>\n",
       "      <td>little</td>\n",
       "      <td>moderate</td>\n",
       "      <td>5951</td>\n",
       "      <td>48</td>\n",
       "      <td>radio/TV</td>\n",
       "      <td>bad</td>\n",
       "    </tr>\n",
       "    <tr>\n",
       "      <th>2</th>\n",
       "      <td>49</td>\n",
       "      <td>male</td>\n",
       "      <td>1</td>\n",
       "      <td>own</td>\n",
       "      <td>little</td>\n",
       "      <td>NaN</td>\n",
       "      <td>2096</td>\n",
       "      <td>12</td>\n",
       "      <td>education</td>\n",
       "      <td>good</td>\n",
       "    </tr>\n",
       "    <tr>\n",
       "      <th>3</th>\n",
       "      <td>45</td>\n",
       "      <td>male</td>\n",
       "      <td>2</td>\n",
       "      <td>free</td>\n",
       "      <td>little</td>\n",
       "      <td>little</td>\n",
       "      <td>7882</td>\n",
       "      <td>42</td>\n",
       "      <td>furniture/equipment</td>\n",
       "      <td>good</td>\n",
       "    </tr>\n",
       "    <tr>\n",
       "      <th>4</th>\n",
       "      <td>53</td>\n",
       "      <td>male</td>\n",
       "      <td>2</td>\n",
       "      <td>free</td>\n",
       "      <td>little</td>\n",
       "      <td>little</td>\n",
       "      <td>4870</td>\n",
       "      <td>24</td>\n",
       "      <td>car</td>\n",
       "      <td>bad</td>\n",
       "    </tr>\n",
       "  </tbody>\n",
       "</table>\n",
       "</div>"
      ],
      "text/plain": [
       "   Age     Sex  Job Housing Saving accounts Checking account  Credit amount  \\\n",
       "0   67    male    2     own             NaN           little           1169   \n",
       "1   22  female    2     own          little         moderate           5951   \n",
       "2   49    male    1     own          little              NaN           2096   \n",
       "3   45    male    2    free          little           little           7882   \n",
       "4   53    male    2    free          little           little           4870   \n",
       "\n",
       "   Duration              Purpose  Risk  \n",
       "0         6             radio/TV  good  \n",
       "1        48             radio/TV   bad  \n",
       "2        12            education  good  \n",
       "3        42  furniture/equipment  good  \n",
       "4        24                  car   bad  "
      ]
     },
     "execution_count": 8,
     "metadata": {},
     "output_type": "execute_result"
    }
   ],
   "source": [
    "df.head()"
   ]
  },
  {
   "cell_type": "code",
   "execution_count": 9,
   "id": "695dadb9",
   "metadata": {},
   "outputs": [
    {
     "name": "stdout",
     "output_type": "stream",
     "text": [
      "<class 'pandas.core.frame.DataFrame'>\n",
      "RangeIndex: 1000 entries, 0 to 999\n",
      "Data columns (total 10 columns):\n",
      " #   Column            Non-Null Count  Dtype \n",
      "---  ------            --------------  ----- \n",
      " 0   Age               1000 non-null   int64 \n",
      " 1   Sex               1000 non-null   object\n",
      " 2   Job               1000 non-null   int64 \n",
      " 3   Housing           1000 non-null   object\n",
      " 4   Saving accounts   817 non-null    object\n",
      " 5   Checking account  606 non-null    object\n",
      " 6   Credit amount     1000 non-null   int64 \n",
      " 7   Duration          1000 non-null   int64 \n",
      " 8   Purpose           1000 non-null   object\n",
      " 9   Risk              1000 non-null   object\n",
      "dtypes: int64(4), object(6)\n",
      "memory usage: 78.2+ KB\n"
     ]
    }
   ],
   "source": [
    "df.info()"
   ]
  },
  {
   "cell_type": "code",
   "execution_count": 10,
   "id": "716d6765",
   "metadata": {},
   "outputs": [
    {
     "data": {
      "text/plain": [
       "Age                   0\n",
       "Sex                   0\n",
       "Job                   0\n",
       "Housing               0\n",
       "Saving accounts     183\n",
       "Checking account    394\n",
       "Credit amount         0\n",
       "Duration              0\n",
       "Purpose               0\n",
       "Risk                  0\n",
       "dtype: int64"
      ]
     },
     "execution_count": 10,
     "metadata": {},
     "output_type": "execute_result"
    }
   ],
   "source": [
    "df.isna().sum()"
   ]
  },
  {
   "cell_type": "code",
   "execution_count": 11,
   "id": "c71bc421",
   "metadata": {},
   "outputs": [],
   "source": [
    "df['Saving accounts'].fillna(value = 'mode', axis = 0, inplace = True)"
   ]
  },
  {
   "cell_type": "code",
   "execution_count": 12,
   "id": "93057cb7",
   "metadata": {},
   "outputs": [],
   "source": [
    "df['Checking account'].fillna(value = 'mode', axis = 0, inplace = True)"
   ]
  },
  {
   "cell_type": "code",
   "execution_count": 13,
   "id": "f3ecba92",
   "metadata": {},
   "outputs": [
    {
     "name": "stdout",
     "output_type": "stream",
     "text": [
      "<class 'pandas.core.frame.DataFrame'>\n",
      "RangeIndex: 1000 entries, 0 to 999\n",
      "Data columns (total 10 columns):\n",
      " #   Column            Non-Null Count  Dtype \n",
      "---  ------            --------------  ----- \n",
      " 0   Age               1000 non-null   int64 \n",
      " 1   Sex               1000 non-null   object\n",
      " 2   Job               1000 non-null   int64 \n",
      " 3   Housing           1000 non-null   object\n",
      " 4   Saving accounts   1000 non-null   object\n",
      " 5   Checking account  1000 non-null   object\n",
      " 6   Credit amount     1000 non-null   int64 \n",
      " 7   Duration          1000 non-null   int64 \n",
      " 8   Purpose           1000 non-null   object\n",
      " 9   Risk              1000 non-null   object\n",
      "dtypes: int64(4), object(6)\n",
      "memory usage: 78.2+ KB\n"
     ]
    }
   ],
   "source": [
    "df.info()"
   ]
  },
  {
   "cell_type": "code",
   "execution_count": 14,
   "id": "34852101",
   "metadata": {},
   "outputs": [
    {
     "data": {
      "text/plain": [
       "Index(['Age', 'Sex', 'Job', 'Housing', 'Saving accounts', 'Checking account',\n",
       "       'Credit amount', 'Duration', 'Purpose', 'Risk'],\n",
       "      dtype='object')"
      ]
     },
     "execution_count": 14,
     "metadata": {},
     "output_type": "execute_result"
    }
   ],
   "source": [
    "df.columns"
   ]
  },
  {
   "cell_type": "code",
   "execution_count": 15,
   "id": "4b123fd1",
   "metadata": {},
   "outputs": [
    {
     "data": {
      "image/png": "[encoded data removed]",
      "text/plain": [
       "<Figure size 360x360 with 1 Axes>"
      ]
     },
     "metadata": {},
     "output_type": "display_data"
    }
   ],
   "source": [
    "sns.displot(df['Credit amount'])\n",
    "plt.show()"
   ]
  },
  {
   "cell_type": "code",
   "execution_count": 16,
   "id": "7897d350",
   "metadata": {},
   "outputs": [
    {
     "data": {
      "image/png": "[encoded data removed]",
      "text/plain": [
       "<Figure size 432x288 with 1 Axes>"
      ]
     },
     "metadata": {},
     "output_type": "display_data"
    }
   ],
   "source": [
    "sns.countplot(data=df, x='Sex', hue='Risk')\n",
    "plt.show()"
   ]
  },
  {
   "cell_type": "code",
   "execution_count": 17,
   "id": "ef940e68",
   "metadata": {},
   "outputs": [
    {
     "data": {
      "image/png": "[encoded data removed]",
      "text/plain": [
       "<Figure size 360x360 with 1 Axes>"
      ]
     },
     "metadata": {},
     "output_type": "display_data"
    }
   ],
   "source": [
    "sns.catplot(data=df, x='Sex', y='Age', kind='box')\n",
    "plt.show()"
   ]
  },
  {
   "cell_type": "code",
   "execution_count": 18,
   "id": "e8520e6c",
   "metadata": {},
   "outputs": [
    {
     "data": {
      "image/png": "[encoded data removed]",
      "text/plain": [
       "<Figure size 432x288 with 1 Axes>"
      ]
     },
     "metadata": {},
     "output_type": "display_data"
    }
   ],
   "source": [
    "sns.violinplot(data=df, x='Sex', y='Age', hue='Risk', split=True)\n",
    "plt.show()\n"
   ]
  },
  {
   "cell_type": "code",
   "execution_count": 19,
   "id": "e9c8b9b4",
   "metadata": {},
   "outputs": [
    {
     "data": {
      "image/png": "[encoded data removed]",
      "text/plain": [
       "<Figure size 720x720 with 4 Axes>"
      ]
     },
     "metadata": {},
     "output_type": "display_data"
    }
   ],
   "source": [
    "sns.displot(data=df, row='Sex', y='Age', col='Risk')\n",
    "plt.show()"
   ]
  },
  {
   "cell_type": "code",
   "execution_count": 21,
   "id": "40916492",
   "metadata": {},
   "outputs": [
    {
     "data": {
      "text/plain": [
       "Text(0.5, 1.0, 'Correlation Factors Heat Map')"
      ]
     },
     "execution_count": 21,
     "metadata": {},
     "output_type": "execute_result"
    },
    {
     "data": {
      "image/png": "[encoded data removed]",
      "text/plain": [
       "<Figure size 432x288 with 2 Axes>"
      ]
     },
     "metadata": {},
     "output_type": "display_data"
    }
   ],
   "source": [
    "sns.heatmap(df.corr(), annot=True).set_title('Correlation Factors Heat Map', color='black', size='20')"
   ]
  },
  {
   "cell_type": "markdown",
   "id": "49e20b42",
   "metadata": {},
   "source": [
    "# Defining categorical and numerical variables"
   ]
  },
  {
   "cell_type": "code",
   "execution_count": 23,
   "id": "4017c730",
   "metadata": {},
   "outputs": [],
   "source": [
    "num_atr=['Age' , 'Credit amount' , 'Duration']\n",
    "\n",
    "cat_atr=['Sex' , 'Job' , 'Housing' , 'Saving accounts' , 'Checking account' , 'Purpose']"
   ]
  },
  {
   "cell_type": "code",
   "execution_count": 24,
   "id": "d3510977",
   "metadata": {},
   "outputs": [],
   "source": [
    "from sklearn.model_selection import train_test_split\n",
    "X= df.drop(['Risk'], axis=1)\n",
    "y= df['Risk']\n",
    "\n",
    "\n",
    "X_train,X_test,y_train,y_test=train_test_split(X,y,test_size=0.3,random_state=1)"
   ]
  },
  {
   "cell_type": "code",
   "execution_count": 25,
   "id": "bfc6d2b9",
   "metadata": {},
   "outputs": [],
   "source": [
    "from sklearn.preprocessing import StandardScaler\n",
    "from sklearn.metrics import mean_squared_error,r2_score \n",
    "from sklearn.preprocessing import OneHotEncoder as onehot\n",
    "from sklearn.preprocessing import LabelEncoder"
   ]
  },
  {
   "cell_type": "code",
   "execution_count": 26,
   "id": "2647570a",
   "metadata": {},
   "outputs": [
    {
     "name": "stderr",
     "output_type": "stream",
     "text": [
      "C:\\ProgramData\\Anaconda3\\lib\\site-packages\\pandas\\core\\frame.py:3191: SettingWithCopyWarning: \n",
      "A value is trying to be set on a copy of a slice from a DataFrame.\n",
      "Try using .loc[row_indexer,col_indexer] = value instead\n",
      "\n",
      "See the caveats in the documentation: https://pandas.pydata.org/pandas-docs/stable/user_guide/indexing.html#returning-a-view-versus-a-copy\n",
      "  self[k1] = value[k2]\n"
     ]
    }
   ],
   "source": [
    "le = LabelEncoder()\n",
    "X_train[cat_atr] = X_train[cat_atr].apply(le.fit_transform)"
   ]
  },
  {
   "cell_type": "code",
   "execution_count": 27,
   "id": "ec53895c",
   "metadata": {},
   "outputs": [
    {
     "data": {
      "text/html": [
       "<div>\n",
       "<style scoped>\n",
       "    .dataframe tbody tr th:only-of-type {\n",
       "        vertical-align: middle;\n",
       "    }\n",
       "\n",
       "    .dataframe tbody tr th {\n",
       "        vertical-align: top;\n",
       "    }\n",
       "\n",
       "    .dataframe thead th {\n",
       "        text-align: right;\n",
       "    }\n",
       "</style>\n",
       "<table border=\"1\" class=\"dataframe\">\n",
       "  <thead>\n",
       "    <tr style=\"text-align: right;\">\n",
       "      <th></th>\n",
       "      <th>Sex</th>\n",
       "      <th>Job</th>\n",
       "      <th>Housing</th>\n",
       "      <th>Saving accounts</th>\n",
       "      <th>Checking account</th>\n",
       "      <th>Purpose</th>\n",
       "    </tr>\n",
       "  </thead>\n",
       "  <tbody>\n",
       "    <tr>\n",
       "      <th>731</th>\n",
       "      <td>1</td>\n",
       "      <td>1</td>\n",
       "      <td>2</td>\n",
       "      <td>0</td>\n",
       "      <td>0</td>\n",
       "      <td>5</td>\n",
       "    </tr>\n",
       "    <tr>\n",
       "      <th>716</th>\n",
       "      <td>1</td>\n",
       "      <td>2</td>\n",
       "      <td>1</td>\n",
       "      <td>1</td>\n",
       "      <td>1</td>\n",
       "      <td>5</td>\n",
       "    </tr>\n",
       "    <tr>\n",
       "      <th>640</th>\n",
       "      <td>0</td>\n",
       "      <td>0</td>\n",
       "      <td>1</td>\n",
       "      <td>0</td>\n",
       "      <td>0</td>\n",
       "      <td>3</td>\n",
       "    </tr>\n",
       "    <tr>\n",
       "      <th>804</th>\n",
       "      <td>0</td>\n",
       "      <td>0</td>\n",
       "      <td>2</td>\n",
       "      <td>1</td>\n",
       "      <td>2</td>\n",
       "      <td>1</td>\n",
       "    </tr>\n",
       "    <tr>\n",
       "      <th>737</th>\n",
       "      <td>1</td>\n",
       "      <td>1</td>\n",
       "      <td>1</td>\n",
       "      <td>2</td>\n",
       "      <td>0</td>\n",
       "      <td>1</td>\n",
       "    </tr>\n",
       "  </tbody>\n",
       "</table>\n",
       "</div>"
      ],
      "text/plain": [
       "     Sex  Job  Housing  Saving accounts  Checking account  Purpose\n",
       "731    1    1        2                0                 0        5\n",
       "716    1    2        1                1                 1        5\n",
       "640    0    0        1                0                 0        3\n",
       "804    0    0        2                1                 2        1\n",
       "737    1    1        1                2                 0        1"
      ]
     },
     "execution_count": 27,
     "metadata": {},
     "output_type": "execute_result"
    }
   ],
   "source": [
    "X_train[cat_atr].head()"
   ]
  },
  {
   "cell_type": "code",
   "execution_count": 28,
   "id": "658fd9d8",
   "metadata": {
    "scrolled": true
   },
   "outputs": [
    {
     "data": {
      "text/plain": [
       "array([[-1.25959752, -0.44363756,  0.25913751],\n",
       "       [ 0.3716242 , -0.05891106,  0.76208462],\n",
       "       [-0.74447487, -0.88024919, -0.2438096 ],\n",
       "       ...,\n",
       "       [ 0.88674684,  0.12356931, -0.49528316],\n",
       "       [-0.48691355, -0.50152301,  0.25913751],\n",
       "       [ 0.11406287, -0.40375307, -0.2438096 ]])"
      ]
     },
     "execution_count": 28,
     "metadata": {},
     "output_type": "execute_result"
    }
   ],
   "source": [
    "ss = StandardScaler()\n",
    "ss.fit_transform(X_train[num_atr])"
   ]
  },
  {
   "cell_type": "code",
   "execution_count": 29,
   "id": "b6bd2376",
   "metadata": {},
   "outputs": [
    {
     "data": {
      "text/plain": [
       "(700, 9)"
      ]
     },
     "execution_count": 29,
     "metadata": {},
     "output_type": "execute_result"
    }
   ],
   "source": [
    "a = X_train[cat_atr]\n",
    "b = ss.transform(X_train[num_atr])\n",
    "\n",
    "Xtr = np.hstack([a,b])\n",
    "Xtr.shape"
   ]
  },
  {
   "cell_type": "markdown",
   "id": "90b2087e",
   "metadata": {},
   "source": [
    "# KNN CLASSIFIER"
   ]
  },
  {
   "cell_type": "code",
   "execution_count": 30,
   "id": "d4620707",
   "metadata": {},
   "outputs": [
    {
     "data": {
      "text/plain": [
       "KNeighborsClassifier(metric='euclidean')"
      ]
     },
     "execution_count": 30,
     "metadata": {},
     "output_type": "execute_result"
    }
   ],
   "source": [
    "knn = KNeighborsClassifier(n_neighbors=5, metric='euclidean')\n",
    "knn.fit(Xtr, y_train)"
   ]
  },
  {
   "cell_type": "code",
   "execution_count": 31,
   "id": "519ce8b6",
   "metadata": {},
   "outputs": [
    {
     "name": "stderr",
     "output_type": "stream",
     "text": [
      "C:\\ProgramData\\Anaconda3\\lib\\site-packages\\pandas\\core\\frame.py:3191: SettingWithCopyWarning: \n",
      "A value is trying to be set on a copy of a slice from a DataFrame.\n",
      "Try using .loc[row_indexer,col_indexer] = value instead\n",
      "\n",
      "See the caveats in the documentation: https://pandas.pydata.org/pandas-docs/stable/user_guide/indexing.html#returning-a-view-versus-a-copy\n",
      "  self[k1] = value[k2]\n"
     ]
    },
    {
     "data": {
      "text/plain": [
       "(300, 9)"
      ]
     },
     "execution_count": 31,
     "metadata": {},
     "output_type": "execute_result"
    }
   ],
   "source": [
    "ss = StandardScaler()\n",
    "ss.fit_transform(X_test[num_atr])\n",
    "le = LabelEncoder()\n",
    "X_test[cat_atr] = X_test[cat_atr].apply(le.fit_transform)\n",
    "a1 = X_test[cat_atr]\n",
    "b1 = ss.transform(X_test[num_atr])\n",
    "\n",
    "Xtr1 = np.hstack([a1,b1]) \n",
    "Xtr1.shape "
   ]
  },
  {
   "cell_type": "code",
   "execution_count": 32,
   "id": "64ee8cdb",
   "metadata": {},
   "outputs": [],
   "source": [
    "y_pred = knn.predict(Xtr1)"
   ]
  },
  {
   "cell_type": "code",
   "execution_count": 33,
   "id": "91183181",
   "metadata": {},
   "outputs": [
    {
     "data": {
      "text/plain": [
       "array([[ 26,  60],\n",
       "       [ 27, 187]], dtype=int64)"
      ]
     },
     "execution_count": 33,
     "metadata": {},
     "output_type": "execute_result"
    }
   ],
   "source": [
    "y_pred = knn.predict(Xtr1)\n",
    "confusion_matrix(y_test, y_pred)"
   ]
  },
  {
   "cell_type": "code",
   "execution_count": 34,
   "id": "80bd3b59",
   "metadata": {},
   "outputs": [],
   "source": [
    "from sklearn.metrics import accuracy_score"
   ]
  },
  {
   "cell_type": "code",
   "execution_count": 35,
   "id": "2e82e3ec",
   "metadata": {},
   "outputs": [
    {
     "data": {
      "text/plain": [
       "0.71"
      ]
     },
     "execution_count": 35,
     "metadata": {},
     "output_type": "execute_result"
    }
   ],
   "source": [
    "accuracy_score(y_test, y_pred)"
   ]
  },
  {
   "cell_type": "code",
   "execution_count": 36,
   "id": "1b66cae7",
   "metadata": {},
   "outputs": [],
   "source": [
    "from sklearn.metrics import precision_recall_fscore_support"
   ]
  },
  {
   "cell_type": "code",
   "execution_count": 37,
   "id": "f5662555",
   "metadata": {},
   "outputs": [
    {
     "data": {
      "text/plain": [
       "(array([0.49056604, 0.75708502]),\n",
       " array([0.30232558, 0.87383178]),\n",
       " array([0.37410072, 0.81127983]),\n",
       " array([ 86, 214], dtype=int64))"
      ]
     },
     "execution_count": 37,
     "metadata": {},
     "output_type": "execute_result"
    }
   ],
   "source": [
    "precision_recall_fscore_support(y_test, y_pred)"
   ]
  },
  {
   "cell_type": "code",
   "execution_count": 44,
   "id": "f2c8b2d8",
   "metadata": {},
   "outputs": [],
   "source": [
    "y_pred = knn.predict(X_test)"
   ]
  },
  {
   "cell_type": "code",
   "execution_count": 45,
   "id": "481eccc4",
   "metadata": {},
   "outputs": [
    {
     "data": {
      "text/plain": [
       "0.7133333333333334"
      ]
     },
     "execution_count": 45,
     "metadata": {},
     "output_type": "execute_result"
    }
   ],
   "source": [
    "accuracy_score(y_test, y_pred)"
   ]
  },
  {
   "cell_type": "code",
   "execution_count": 46,
   "id": "8999fa90",
   "metadata": {},
   "outputs": [
    {
     "data": {
      "image/png": "[encoded data removed]",
      "text/plain": [
       "<Figure size 720x432 with 1 Axes>"
      ]
     },
     "metadata": {},
     "output_type": "display_data"
    },
    {
     "name": "stdout",
     "output_type": "stream",
     "text": [
      "Minimum error:- 0.2833333333333333 at K = 27\n"
     ]
    }
   ],
   "source": [
    "error_rate = []\n",
    "for i in range(1,40):\n",
    " knn = KNeighborsClassifier(n_neighbors=i)\n",
    " knn.fit(X_train,y_train)\n",
    " pred_i = knn.predict(X_test)\n",
    " #print (pred_i)\n",
    " #print (1-accuracy_score(y_test, pred_i))\n",
    " error_rate.append(1-accuracy_score(y_test, pred_i))\n",
    "\n",
    "plt.figure(figsize=(10,6))\n",
    "plt.plot(range(1,40),error_rate,color='blue', linestyle='dashed', \n",
    "         marker='o',markerfacecolor='red', markersize=10)\n",
    "plt.title('Error Rate vs. K Value')\n",
    "plt.xlabel('K')\n",
    "plt.ylabel('Error Rate')\n",
    "plt.show()\n",
    "print(\"Minimum error:-\",min(error_rate),\"at K =\",error_rate.index(min(error_rate))+1)"
   ]
  },
  {
   "cell_type": "markdown",
   "id": "980322aa",
   "metadata": {},
   "source": [
    "# DECISION TREE CLASSIFIER"
   ]
  },
  {
   "cell_type": "code",
   "execution_count": 48,
   "id": "ae18a2ed",
   "metadata": {},
   "outputs": [],
   "source": [
    "from sklearn.model_selection import train_test_split\n",
    "from sklearn.preprocessing import StandardScaler\n",
    "from sklearn.tree import DecisionTreeClassifier\n",
    "from sklearn.tree import export_graphviz\n",
    "from sklearn.datasets import load_iris\n",
    "from sklearn.tree import plot_tree\n",
    "import matplotlib.pyplot as plt"
   ]
  },
  {
   "cell_type": "code",
   "execution_count": 49,
   "id": "82d9ecc5",
   "metadata": {},
   "outputs": [],
   "source": [
    "from IPython.core.interactiveshell import InteractiveShell\n",
    "InteractiveShell.ast_node_interactivity = \"all\""
   ]
  },
  {
   "cell_type": "code",
   "execution_count": 50,
   "id": "9f38a60b",
   "metadata": {},
   "outputs": [],
   "source": [
    "X= df.drop(['Risk'], axis=1)\n",
    "y= df['Risk']\n",
    "\n",
    "\n",
    "X_train,X_test,y_train,y_test=train_test_split(X,y,test_size=0.3,random_state=1)"
   ]
  },
  {
   "cell_type": "code",
   "execution_count": 51,
   "id": "72c6dfbe",
   "metadata": {},
   "outputs": [],
   "source": [
    "from sklearn.preprocessing import LabelEncoder"
   ]
  },
  {
   "cell_type": "code",
   "execution_count": 52,
   "id": "5b4edbe8",
   "metadata": {},
   "outputs": [
    {
     "name": "stderr",
     "output_type": "stream",
     "text": [
      "C:\\ProgramData\\Anaconda3\\lib\\site-packages\\pandas\\core\\frame.py:3191: SettingWithCopyWarning: \n",
      "A value is trying to be set on a copy of a slice from a DataFrame.\n",
      "Try using .loc[row_indexer,col_indexer] = value instead\n",
      "\n",
      "See the caveats in the documentation: https://pandas.pydata.org/pandas-docs/stable/user_guide/indexing.html#returning-a-view-versus-a-copy\n",
      "  self[k1] = value[k2]\n"
     ]
    }
   ],
   "source": [
    "le = LabelEncoder()\n",
    "X_train[cat_atr] = X_train[cat_atr].apply(le.fit_transform)\n"
   ]
  },
  {
   "cell_type": "code",
   "execution_count": 53,
   "id": "9d971f3f",
   "metadata": {},
   "outputs": [
    {
     "data": {
      "text/html": [
       "<div>\n",
       "<style scoped>\n",
       "    .dataframe tbody tr th:only-of-type {\n",
       "        vertical-align: middle;\n",
       "    }\n",
       "\n",
       "    .dataframe tbody tr th {\n",
       "        vertical-align: top;\n",
       "    }\n",
       "\n",
       "    .dataframe thead th {\n",
       "        text-align: right;\n",
       "    }\n",
       "</style>\n",
       "<table border=\"1\" class=\"dataframe\">\n",
       "  <thead>\n",
       "    <tr style=\"text-align: right;\">\n",
       "      <th></th>\n",
       "      <th>Sex</th>\n",
       "      <th>Job</th>\n",
       "      <th>Housing</th>\n",
       "      <th>Saving accounts</th>\n",
       "      <th>Checking account</th>\n",
       "      <th>Purpose</th>\n",
       "    </tr>\n",
       "  </thead>\n",
       "  <tbody>\n",
       "    <tr>\n",
       "      <th>731</th>\n",
       "      <td>1</td>\n",
       "      <td>1</td>\n",
       "      <td>2</td>\n",
       "      <td>0</td>\n",
       "      <td>0</td>\n",
       "      <td>5</td>\n",
       "    </tr>\n",
       "    <tr>\n",
       "      <th>716</th>\n",
       "      <td>1</td>\n",
       "      <td>2</td>\n",
       "      <td>1</td>\n",
       "      <td>1</td>\n",
       "      <td>1</td>\n",
       "      <td>5</td>\n",
       "    </tr>\n",
       "    <tr>\n",
       "      <th>640</th>\n",
       "      <td>0</td>\n",
       "      <td>0</td>\n",
       "      <td>1</td>\n",
       "      <td>0</td>\n",
       "      <td>0</td>\n",
       "      <td>3</td>\n",
       "    </tr>\n",
       "    <tr>\n",
       "      <th>804</th>\n",
       "      <td>0</td>\n",
       "      <td>0</td>\n",
       "      <td>2</td>\n",
       "      <td>1</td>\n",
       "      <td>2</td>\n",
       "      <td>1</td>\n",
       "    </tr>\n",
       "    <tr>\n",
       "      <th>737</th>\n",
       "      <td>1</td>\n",
       "      <td>1</td>\n",
       "      <td>1</td>\n",
       "      <td>2</td>\n",
       "      <td>0</td>\n",
       "      <td>1</td>\n",
       "    </tr>\n",
       "  </tbody>\n",
       "</table>\n",
       "</div>"
      ],
      "text/plain": [
       "     Sex  Job  Housing  Saving accounts  Checking account  Purpose\n",
       "731    1    1        2                0                 0        5\n",
       "716    1    2        1                1                 1        5\n",
       "640    0    0        1                0                 0        3\n",
       "804    0    0        2                1                 2        1\n",
       "737    1    1        1                2                 0        1"
      ]
     },
     "execution_count": 53,
     "metadata": {},
     "output_type": "execute_result"
    }
   ],
   "source": [
    "X_train[cat_atr].head()"
   ]
  },
  {
   "cell_type": "code",
   "execution_count": 54,
   "id": "f114f19b",
   "metadata": {},
   "outputs": [
    {
     "data": {
      "text/plain": [
       "array([[-1.25959752, -0.44363756,  0.25913751],\n",
       "       [ 0.3716242 , -0.05891106,  0.76208462],\n",
       "       [-0.74447487, -0.88024919, -0.2438096 ],\n",
       "       ...,\n",
       "       [ 0.88674684,  0.12356931, -0.49528316],\n",
       "       [-0.48691355, -0.50152301,  0.25913751],\n",
       "       [ 0.11406287, -0.40375307, -0.2438096 ]])"
      ]
     },
     "execution_count": 54,
     "metadata": {},
     "output_type": "execute_result"
    }
   ],
   "source": [
    "ss = StandardScaler()\n",
    "ss.fit_transform(X_train[num_atr])"
   ]
  },
  {
   "cell_type": "code",
   "execution_count": 55,
   "id": "33ac80ad",
   "metadata": {},
   "outputs": [
    {
     "data": {
      "text/plain": [
       "(700, 9)"
      ]
     },
     "execution_count": 55,
     "metadata": {},
     "output_type": "execute_result"
    }
   ],
   "source": [
    "a = X_train[cat_atr]\n",
    "b = ss.transform(X_train[num_atr])\n",
    "\n",
    "Xtr = np.hstack([a,b])\n",
    "Xtr.shape"
   ]
  },
  {
   "cell_type": "code",
   "execution_count": 56,
   "id": "f0b7a204",
   "metadata": {},
   "outputs": [
    {
     "data": {
      "text/plain": [
       "array([[-1.17271041e-01,  1.25873482e+00, -4.77494135e-01],\n",
       "       [ 7.24834839e-01,  4.48424907e+00,  1.22494675e+00],\n",
       "       [-1.17271041e-01, -2.06301127e-01, -7.20699977e-01],\n",
       "       [ 6.31267519e-01,  3.97217765e-02,  1.22494675e+00],\n",
       "       [-1.05294424e+00,  4.54773516e-01,  2.19777012e+00],\n",
       "       [ 7.24834839e-01, -7.13029523e-01, -7.20699977e-01],\n",
       "       [ 6.98635989e-02,  7.04377538e-01, -2.34288294e-01],\n",
       "       [-8.65809601e-01, -8.69524441e-01, -1.04497443e+00],\n",
       "       [-3.04405681e-01, -9.43295500e-01, -7.20699977e-01],\n",
       "       [-6.78674961e-01, -4.51965918e-01, -7.20699977e-01],\n",
       "       [-1.17271041e-01, -5.34689776e-01,  1.22494675e+00],\n",
       "       [-7.72242281e-01,  2.89784182e-02,  4.95329230e-01],\n",
       "       [-5.85107641e-01,  1.37189820e+00,  1.71135844e+00],\n",
       "       [ 7.24834839e-01, -6.71846650e-01, -4.77494135e-01],\n",
       "       [ 7.24834839e-01,  1.45318961e+00,  2.52123389e-01],\n",
       "       [ 1.09910412e+00, -4.83837881e-01, -2.34288294e-01],\n",
       "       [-8.65809601e-01, -3.18748276e-01, -7.20699977e-01],\n",
       "       [ 1.66050804e+00, -1.79084619e-01,  2.52123389e-01],\n",
       "       [ 9.11969479e-01, -3.60289261e-01, -1.12604305e+00],\n",
       "       [-5.85107641e-01,  2.04085130e+00,  1.22494675e+00],\n",
       "       [ 1.09910412e+00, -7.01211829e-01,  2.52123389e-01],\n",
       "       [-6.78674961e-01, -9.60126762e-01, -9.63905818e-01],\n",
       "       [-3.97973001e-01, -2.00571336e-01, -2.34288294e-01],\n",
       "       [ 1.28623876e+00, -7.91097926e-01, -9.63905818e-01],\n",
       "       [-2.10838361e-01, -4.57337597e-01,  2.52123389e-01],\n",
       "       [ 6.98635989e-02, -3.47039119e-01, -7.20699977e-01],\n",
       "       [-4.91540321e-01,  1.57065032e+00,  2.52123389e-01],\n",
       "       [-8.65809601e-01, -6.97988821e-01, -7.20699977e-01],\n",
       "       [ 2.31547928e+00, -3.90012552e-01, -7.20699977e-01],\n",
       "       [ 2.31547928e+00,  4.09927874e+00,  3.17059349e+00],\n",
       "       [-1.17271041e-01,  4.00698613e-01,  1.22494675e+00],\n",
       "       [-3.97973001e-01, -6.69955818e-02,  2.52123389e-01],\n",
       "       [-4.91540321e-01,  3.88333723e+00,  1.46815260e+00],\n",
       "       [ 3.50565559e-01, -4.34418433e-01, -7.20699977e-01],\n",
       "       [ 7.24834839e-01, -1.56165455e-01, -2.34288294e-01],\n",
       "       [-1.17271041e-01,  3.10229509e+00,  7.38535072e-01],\n",
       "       [ 3.50565559e-01,  2.18481230e+00,  2.68418180e+00],\n",
       "       [-1.05294424e+00, -1.03926950e+00, -1.20711166e+00],\n",
       "       [-3.04405681e-01, -5.21081523e-01, -2.34288294e-01],\n",
       "       [-1.24007888e+00, -5.46865582e-01, -2.34288294e-01],\n",
       "       [-8.65809601e-01, -6.99421269e-01,  2.52123389e-01],\n",
       "       [-9.59376921e-01, -2.52139455e-01, -4.77494135e-01],\n",
       "       [ 1.94121000e+00, -9.73018792e-01, -7.20699977e-01],\n",
       "       [-1.05294424e+00, -3.62437933e-01,  1.22494675e+00],\n",
       "       [ 1.75407536e+00, -7.22340433e-01, -7.20699977e-01],\n",
       "       [-2.10838361e-01, -5.04250261e-01,  2.52123389e-01],\n",
       "       [ 1.63430919e-01,  9.91683586e-02, -2.34288294e-01],\n",
       "       [-8.65809601e-01, -7.79638344e-01, -7.20699977e-01],\n",
       "       [-2.37037211e-02, -2.38173089e-01,  2.52123389e-01],\n",
       "       [-3.97973001e-01, -5.72649642e-01, -7.20699977e-01],\n",
       "       [-9.59376921e-01, -7.86800582e-01, -9.63905818e-01],\n",
       "       [-2.10838361e-01, -6.66474970e-01, -7.20699977e-01],\n",
       "       [-8.65809601e-01,  3.70617210e-01,  1.71135844e+00],\n",
       "       [-9.59376921e-01,  5.05267299e-01,  1.95456428e+00],\n",
       "       [-6.78674961e-01,  7.29087262e-01,  1.22494675e+00],\n",
       "       [-5.85107641e-01, -2.34950082e-01,  2.52123389e-01],\n",
       "       [ 1.66050804e+00, -9.09632978e-01, -7.20699977e-01],\n",
       "       [-1.05294424e+00,  8.09304337e-01,  4.14341685e+00],\n",
       "       [ 1.56694072e+00, -9.24215296e-02, -7.20699977e-01],\n",
       "       [-1.17271041e-01,  1.14306467e+00,  3.17059349e+00],\n",
       "       [-2.10838361e-01, -9.33984590e-01, -7.20699977e-01],\n",
       "       [-2.37037211e-02, -7.32009456e-01, -7.20699977e-01],\n",
       "       [-3.04405681e-01,  3.01706445e+00,  1.46815260e+00],\n",
       "       [ 1.63430919e-01,  1.60863884e-02, -1.36924889e+00],\n",
       "       [ 5.37700199e-01, -2.23132388e-01,  1.22494675e+00],\n",
       "       [-1.05294424e+00,  2.25392791e+00,  1.22494675e+00],\n",
       "       [-1.17271041e-01, -4.96013687e-01, -2.34288294e-01],\n",
       "       [ 2.50261392e+00, -7.15178194e-01, -1.20711166e+00],\n",
       "       [-3.97973001e-01, -3.69958284e-01,  1.22494675e+00],\n",
       "       [-9.59376921e-01,  1.69634761e+00,  7.38535072e-01],\n",
       "       [ 1.63430919e-01, -4.35850881e-01, -9.63905818e-01],\n",
       "       [ 6.98635989e-02, -9.17053057e-02,  1.22494675e+00],\n",
       "       [ 1.47337340e+00, -6.23143426e-01, -1.20711166e+00],\n",
       "       [-1.24007888e+00, -1.03174915e+00, -1.20711166e+00],\n",
       "       [-2.37037211e-02,  1.82350600e-02, -7.20699977e-01],\n",
       "       [ 1.19267144e+00,  6.64269001e-01,  4.95329230e-01],\n",
       "       [-1.17271041e-01,  1.82250329e-01,  2.19777012e+00],\n",
       "       [ 2.59618124e+00, -1.35394963e-01,  2.52123389e-01],\n",
       "       [-4.91540321e-01, -5.26811314e-01, -2.34288294e-01],\n",
       "       [-1.17271041e-01, -6.59670844e-01, -7.20699977e-01],\n",
       "       [-7.72242281e-01,  1.46214240e+00,  3.17059349e+00],\n",
       "       [ 5.37700199e-01, -6.26982386e-02,  8.91754752e-03],\n",
       "       [ 3.62542176e+00, -7.29144560e-01, -1.20711166e+00],\n",
       "       [ 3.50565559e-01, -7.39171694e-01, -4.77494135e-01],\n",
       "       [-1.05294424e+00, -4.26181858e-01,  1.22494675e+00],\n",
       "       [-1.14651156e+00, -5.01027254e-01, -2.34288294e-01],\n",
       "       [ 2.56998239e-01, -9.24315568e-01, -7.20699977e-01],\n",
       "       [ 1.37980608e+00, -6.36035455e-01,  2.52123389e-01],\n",
       "       [-1.24007888e+00, -9.05693747e-01, -4.77494135e-01],\n",
       "       [ 6.31267519e-01, -6.56089724e-01, -1.36924889e+00],\n",
       "       [-2.37037211e-02, -3.54201358e-01,  2.52123389e-01],\n",
       "       [-2.10838361e-01, -3.26168355e-02, -2.34288294e-01],\n",
       "       [-1.14651156e+00,  1.35793183e+00,  1.22494675e+00],\n",
       "       [ 1.28623876e+00,  1.14925284e-01,  7.38535072e-01],\n",
       "       [-2.37037211e-02, -6.99779381e-01,  2.52123389e-01],\n",
       "       [-3.97973001e-01,  8.61946792e-01,  1.22494675e+00],\n",
       "       [-3.97973001e-01, -5.03892149e-01, -2.34288294e-01],\n",
       "       [-1.42721352e+00, -2.20983716e-01,  2.52123389e-01],\n",
       "       [-1.14651156e+00,  1.70790747e-01, -4.77494135e-01],\n",
       "       [ 6.98635989e-02,  1.30063392e+00,  2.52123389e-01],\n",
       "       [ 8.18402159e-01,  1.75188361e-02, -1.20711166e+00],\n",
       "       [ 2.31547928e+00, -7.64955754e-01,  2.52123389e-01],\n",
       "       [-9.59376921e-01,  5.01686180e-01,  2.52123389e-01],\n",
       "       [ 1.19267144e+00, -7.33083791e-01, -9.63905818e-01],\n",
       "       [-1.42721352e+00, -7.24130993e-01, -9.63905818e-01],\n",
       "       [-2.37037211e-02,  1.59331165e-01, -2.34288294e-01],\n",
       "       [ 2.56998239e-01, -6.45346366e-01,  2.52123389e-01],\n",
       "       [ 6.31267519e-01,  1.58569102e+00,  2.19777012e+00],\n",
       "       [-1.14651156e+00,  4.01798732e+00, -1.20711166e+00],\n",
       "       [ 1.00553680e+00, -5.33615440e-01, -4.77494135e-01],\n",
       "       [ 8.18402159e-01, -6.65042523e-01, -4.77494135e-01],\n",
       "       [-2.37037211e-02, -4.99236694e-01, -2.34288294e-01],\n",
       "       [ 4.44132879e-01,  9.12898959e-02, -2.34288294e-01],\n",
       "       [-1.14651156e+00,  1.03634731e+00,  1.22494675e+00],\n",
       "       [ 1.63430919e-01,  1.45891940e+00,  1.22494675e+00],\n",
       "       [ 1.66050804e+00,  1.48613590e+00,  7.38535072e-01],\n",
       "       [-2.37037211e-02, -7.65313866e-01, -1.20711166e+00],\n",
       "       [ 2.40904660e+00, -6.52866717e-01, -4.77494135e-01],\n",
       "       [-9.59376921e-01, -5.37196560e-01,  8.91754752e-03],\n",
       "       [-3.04405681e-01, -9.77932087e-02,  2.52123389e-01],\n",
       "       [-6.78674961e-01,  2.23351552e+00,  1.22494675e+00],\n",
       "       [-9.59376921e-01,  7.79222934e-01,  2.52123389e-01],\n",
       "       [ 9.11969479e-01,  1.62830634e+00,  1.71135844e+00],\n",
       "       [-1.33364620e+00, -1.08894679e-01,  1.95456428e+00],\n",
       "       [ 1.63430919e-01, -7.33441903e-01,  2.52123389e-01],\n",
       "       [ 1.09910412e+00,  6.33113262e-01,  2.52123389e-01],\n",
       "       [-2.37037211e-02, -6.39616575e-01, -9.63905818e-01],\n",
       "       [-1.14651156e+00, -2.95112888e-01, -4.77494135e-01],\n",
       "       [-2.37037211e-02, -4.85628440e-01, -4.77494135e-01],\n",
       "       [-5.85107641e-01, -1.57239791e-01,  2.52123389e-01],\n",
       "       [ 9.11969479e-01, -5.67636075e-01, -1.20711166e+00],\n",
       "       [-8.65809601e-01, -5.04966485e-01,  2.52123389e-01],\n",
       "       [ 5.37700199e-01,  1.08361808e+00, -2.34288294e-01],\n",
       "       [ 1.28623876e+00, -4.43729343e-01, -7.20699977e-01],\n",
       "       [ 2.56998239e-01, -9.06409971e-01, -7.20699977e-01],\n",
       "       [-7.72242281e-01,  8.84149732e-01,  2.52123389e-01],\n",
       "       [ 1.63430919e-01,  7.15937392e-02,  1.22494675e+00],\n",
       "       [-6.78674961e-01,  2.83624657e-03, -4.77494135e-01],\n",
       "       [-6.78674961e-01, -9.16437105e-01, -7.20699977e-01],\n",
       "       [ 2.59618124e+00, -6.01656709e-01, -7.20699977e-01],\n",
       "       [ 5.37700199e-01,  9.37866523e-01,  1.71135844e+00],\n",
       "       [-7.72242281e-01, -4.30837313e-01, -8.82837204e-01],\n",
       "       [ 6.31267519e-01,  1.05747591e+00,  3.17059349e+00],\n",
       "       [-2.10838361e-01, -3.63870381e-01,  8.91754752e-03],\n",
       "       [-1.14651156e+00, -1.05395209e+00, -4.77494135e-01],\n",
       "       [ 9.11969479e-01,  1.88113337e+00,  1.46815260e+00],\n",
       "       [-8.65809601e-01, -2.32085186e-01, -4.77494135e-01],\n",
       "       [-3.04405681e-01, -1.74429164e-01, -8.82837204e-01],\n",
       "       [-1.24007888e+00, -7.17684978e-01, -7.20699977e-01],\n",
       "       [-1.17271041e-01,  1.31209350e+00,  2.19777012e+00],\n",
       "       [ 1.00553680e+00, -9.33984590e-01, -8.82837204e-01],\n",
       "       [-1.24007888e+00, -6.52150493e-01, -4.77494135e-01],\n",
       "       [ 2.40904660e+00, -9.88675446e-02, -7.20699977e-01],\n",
       "       [ 1.28623876e+00, -7.55902684e-02, -7.20699977e-01],\n",
       "       [ 1.56694072e+00,  1.12193606e+00, -7.20699977e-01],\n",
       "       [-7.72242281e-01, -1.45063985e-01, -7.20699977e-01],\n",
       "       [-2.37037211e-02,  7.12256001e-01, -4.77494135e-01],\n",
       "       [ 1.63430919e-01, -5.06040821e-01, -7.20699977e-01],\n",
       "       [ 1.56694072e+00, -3.65302828e-01, -8.82837204e-01],\n",
       "       [-1.24007888e+00, -6.65042523e-01, -9.63905818e-01],\n",
       "       [-1.17271041e-01, -5.14635508e-01, -1.20711166e+00],\n",
       "       [ 2.56998239e-01,  2.60989117e+00,  7.38535072e-01],\n",
       "       [-4.91540321e-01, -4.34776545e-01, -7.20699977e-01],\n",
       "       [-2.37037211e-02, -2.08449798e-01, -9.63905818e-01],\n",
       "       [-1.14651156e+00,  4.41799836e+00,  2.19777012e+00],\n",
       "       [ 6.98635989e-02, -7.50989388e-01, -1.20711166e+00],\n",
       "       [-2.37037211e-02,  4.00798884e-02, -7.20699977e-01],\n",
       "       [ 6.98635989e-02,  3.24420769e-01,  2.52123389e-01],\n",
       "       [-1.24007888e+00, -7.43827150e-01, -7.20699977e-01],\n",
       "       [-1.17271041e-01, -6.56805948e-01, -9.63905818e-01],\n",
       "       [-8.65809601e-01,  6.38126829e-01,  4.95329230e-01],\n",
       "       [ 1.09910412e+00, -7.59942187e-01, -4.77494135e-01],\n",
       "       [ 8.18402159e-01, -7.77847784e-01, -7.20699977e-01],\n",
       "       [ 5.37700199e-01, -9.36849486e-01, -7.20699977e-01],\n",
       "       [-7.72242281e-01, -1.84456298e-01,  1.22494675e+00],\n",
       "       [-7.72242281e-01, -7.76057224e-01, -7.20699977e-01],\n",
       "       [ 3.62542176e+00,  6.42424172e-01, -9.63905818e-01],\n",
       "       [ 4.44132879e-01, -7.06941620e-01, -1.20711166e+00],\n",
       "       [-1.05294424e+00, -1.14266358e-01, -7.20699977e-01],\n",
       "       [ 1.75407536e+00,  8.34114332e-02, -4.77494135e-01],\n",
       "       [-3.97973001e-01, -8.27525072e-02, -2.34288294e-01],\n",
       "       [-5.85107641e-01, -3.58856813e-01,  2.52123389e-01],\n",
       "       [-1.14651156e+00, -8.94950389e-01, -7.20699977e-01],\n",
       "       [ 6.31267519e-01,  2.51785641e+00,  3.17059349e+00],\n",
       "       [-6.78674961e-01, -2.52139455e-01, -4.77494135e-01],\n",
       "       [-5.85107641e-01, -6.59312732e-01, -1.36924889e+00],\n",
       "       [ 1.56694072e+00, -8.59139194e-01, -9.63905818e-01],\n",
       "       [-3.04405681e-01, -1.27874612e-01,  2.52123389e-01],\n",
       "       [-1.33364620e+00, -7.32725679e-01, -7.20699977e-01],\n",
       "       [-8.65809601e-01,  1.75257119e+00,  1.22494675e+00],\n",
       "       [ 4.44132879e-01, -5.12128724e-01, -4.77494135e-01],\n",
       "       [-2.10838361e-01,  2.25939986e-01, -2.34288294e-01],\n",
       "       [-9.59376921e-01, -8.84207030e-01, -2.34288294e-01],\n",
       "       [ 1.56694072e+00, -4.30479202e-01, -7.20699977e-01],\n",
       "       [-2.10838361e-01, -1.80517067e-01,  7.38535072e-01],\n",
       "       [ 3.62542176e+00,  4.04380003e-02, -1.28818027e+00],\n",
       "       [-5.85107641e-01,  9.12898959e-02, -7.20699977e-01],\n",
       "       [-1.14651156e+00, -8.37652478e-01, -7.20699977e-01],\n",
       "       [-2.10838361e-01, -4.59844381e-01, -2.34288294e-01],\n",
       "       [-8.65809601e-01, -6.84380567e-01, -7.20699977e-01],\n",
       "       [-9.59376921e-01, -7.34874351e-01,  8.99861613e-02],\n",
       "       [ 1.37980608e+00, -3.38444433e-01, -7.20699977e-01],\n",
       "       [-6.78674961e-01, -1.47570768e-01,  8.91754752e-03],\n",
       "       [-1.14651156e+00, -7.10164627e-01, -1.20711166e+00],\n",
       "       [-1.05294424e+00, -5.19548803e-02, -2.34288294e-01],\n",
       "       [-6.78674961e-01, -7.01569941e-01,  2.52123389e-01],\n",
       "       [-3.97973001e-01,  3.39919854e-02,  2.52123389e-01],\n",
       "       [-7.72242281e-01,  1.84399000e-01, -2.34288294e-01],\n",
       "       [-1.05294424e+00,  8.62304904e-01,  2.52123389e-01],\n",
       "       [-6.78674961e-01,  2.78582441e-01,  2.52123389e-01],\n",
       "       [-8.65809601e-01,  4.27915120e-01,  7.38535072e-01],\n",
       "       [-1.05294424e+00,  5.28544575e-01,  7.38535072e-01],\n",
       "       [ 1.19267144e+00, -8.06854851e-01, -7.20699977e-01],\n",
       "       [ 1.84764268e+00, -7.68178762e-01, -2.34288294e-01],\n",
       "       [ 1.09910412e+00, -9.32552142e-01, -1.04497443e+00],\n",
       "       [ 8.18402159e-01,  2.43226765e+00,  2.19777012e+00],\n",
       "       [-1.14651156e+00, -7.48124493e-01,  2.52123389e-01],\n",
       "       [ 1.56694072e+00, -1.07329013e+00, -1.20711166e+00],\n",
       "       [-4.91540321e-01,  1.79876763e+00,  2.19777012e+00],\n",
       "       [-7.72242281e-01, -6.96198261e-01, -9.63905818e-01],\n",
       "       [-1.24007888e+00, -1.09549308e+00, -9.63905818e-01],\n",
       "       [ 2.56998239e-01, -4.16870948e-01, -7.20699977e-01],\n",
       "       [ 6.31267519e-01,  1.67925851e-01,  1.22494675e+00],\n",
       "       [-6.78674961e-01, -5.43642575e-01, -2.34288294e-01],\n",
       "       [ 4.44132879e-01, -7.08015956e-01,  2.52123389e-01],\n",
       "       [-1.05294424e+00, -4.33702209e-01, -2.34288294e-01],\n",
       "       [-3.04405681e-01,  9.82272404e-01, -7.20699977e-01],\n",
       "       [ 1.63430919e-01, -7.38097359e-01, -7.20699977e-01],\n",
       "       [-5.85107641e-01,  1.16168649e+00,  2.52123389e-01],\n",
       "       [-8.65809601e-01, -9.83045926e-01, -1.20711166e+00],\n",
       "       [ 6.98635989e-02,  1.33286399e+00, -7.21510663e-02],\n",
       "       [ 3.50565559e-01, -9.55829418e-01, -1.20711166e+00],\n",
       "       [ 6.31267519e-01,  6.26309135e-01,  2.52123389e-01],\n",
       "       [-2.10838361e-01, -7.48482605e-01, -2.34288294e-01],\n",
       "       [ 5.37700199e-01, -2.97977784e-01,  7.38535072e-01],\n",
       "       [-3.97973001e-01, -6.40690911e-01, -8.82837204e-01],\n",
       "       [-8.65809601e-01, -7.18043090e-01, -7.20699977e-01],\n",
       "       [ 1.94121000e+00, -6.43555806e-01, -1.20711166e+00],\n",
       "       [-4.91540321e-01,  4.01056725e-01,  1.22494675e+00],\n",
       "       [-1.24007888e+00, -6.33170560e-01, -7.20699977e-01],\n",
       "       [-1.24007888e+00,  1.06330597e-01,  2.52123389e-01],\n",
       "       [-5.85107641e-01, -6.88677911e-01, -7.20699977e-01],\n",
       "       [-6.78674961e-01,  3.27285665e-01,  7.38535072e-01],\n",
       "       [ 4.44132879e-01, -9.49383403e-01, -7.20699977e-01],\n",
       "       [-3.04405681e-01, -9.69079560e-01, -2.34288294e-01],\n",
       "       [-9.59376921e-01, -3.92877448e-01, -2.34288294e-01],\n",
       "       [ 7.24834839e-01, -3.19822612e-01,  4.95329230e-01],\n",
       "       [-8.65809601e-01, -9.76241799e-01, -7.20699977e-01],\n",
       "       [ 2.56998239e-01, -7.50273165e-01, -7.20699977e-01],\n",
       "       [-1.17271041e-01, -2.71119388e-01,  2.52123389e-01],\n",
       "       [ 7.24834839e-01, -2.93680440e-01, -2.34288294e-01],\n",
       "       [ 6.98635989e-02, -1.65834477e-01,  2.52123389e-01],\n",
       "       [ 9.11969479e-01,  2.02079703e+00, -5.58562749e-01],\n",
       "       [-6.78674961e-01,  3.17258530e-01,  7.38535072e-01],\n",
       "       [ 4.44132879e-01,  1.86905784e-01,  7.38535072e-01],\n",
       "       [ 2.56998239e-01, -7.25921553e-01, -4.77494135e-01],\n",
       "       [-1.05294424e+00,  1.53243262e-01,  8.91754752e-03],\n",
       "       [-1.05294424e+00,  2.12572383e+00,  1.22494675e+00],\n",
       "       [-1.17271041e-01,  8.82717285e-01,  1.22494675e+00],\n",
       "       [-7.72242281e-01, -6.75427769e-01, -9.63905818e-01],\n",
       "       [ 5.37700199e-01,  1.90845015e-01,  2.52123389e-01],\n",
       "       [-1.14651156e+00, -9.79106695e-01, -1.36924889e+00],\n",
       "       [ 3.06401784e+00, -7.73550441e-01, -3.96425522e-01],\n",
       "       [ 1.66050804e+00, -3.26268627e-01,  2.52123389e-01],\n",
       "       [ 1.56694072e+00, -3.98249127e-01,  2.52123389e-01],\n",
       "       [ 2.56998239e-01, -1.06254678e+00, -1.20711166e+00],\n",
       "       [-8.65809601e-01,  9.45129034e-02,  8.91754752e-03],\n",
       "       [-5.85107641e-01, -2.12030918e-01,  5.76397844e-01],\n",
       "       [-3.04405681e-01,  1.39768226e+00,  2.19777012e+00],\n",
       "       [ 3.50565559e-01,  1.11835494e+00, -2.34288294e-01],\n",
       "       [-8.65809601e-01, -3.58398430e-02,  2.52123389e-01],\n",
       "       [ 8.18402159e-01, -5.48298030e-01, -7.20699977e-01],\n",
       "       [-1.14651156e+00, -7.58867851e-01, -2.34288294e-01],\n",
       "       [-9.59376921e-01, -3.37011985e-01,  1.22494675e+00],\n",
       "       [ 7.24834839e-01, -2.54288127e-01, -3.96425522e-01],\n",
       "       [-2.10838361e-01,  6.49944523e-01,  2.52123389e-01],\n",
       "       [ 1.19267144e+00, -5.51521037e-01, -2.34288294e-01],\n",
       "       [-3.04405681e-01,  1.89054456e-01,  2.52123389e-01],\n",
       "       [-2.10838361e-01, -5.31466769e-01,  2.52123389e-01],\n",
       "       [-3.97973001e-01, -6.49643709e-01, -8.82837204e-01],\n",
       "       [ 1.00553680e+00,  1.07287473e+00,  2.19777012e+00],\n",
       "       [-1.05294424e+00, -8.81342135e-01, -4.77494135e-01],\n",
       "       [ 4.44132879e-01, -4.86344664e-01,  1.22494675e+00],\n",
       "       [-1.05294424e+00, -1.12475798e-01,  2.52123389e-01],\n",
       "       [-4.91540321e-01,  1.65838775e+00,  4.14260617e-01],\n",
       "       [ 1.63430919e-01, -9.07126194e-01, -4.77494135e-01],\n",
       "       [ 1.00553680e+00, -5.39345231e-01, -4.77494135e-01],\n",
       "       [-3.97973001e-01, -6.75427769e-01, -1.20711166e+00],\n",
       "       [-9.59376921e-01, -6.62893851e-01, -7.20699977e-01],\n",
       "       [ 1.28623876e+00,  1.80879476e+00,  7.38535072e-01],\n",
       "       [-1.14651156e+00, -6.77218329e-01, -4.77494135e-01],\n",
       "       [-3.97973001e-01, -7.07299732e-01, -4.77494135e-01],\n",
       "       [-8.65809601e-01,  5.20308001e-01,  2.19777012e+00],\n",
       "       [-8.65809601e-01, -6.97272597e-01, -9.63905818e-01],\n",
       "       [ 6.31267519e-01,  2.92906918e-01, -2.34288294e-01],\n",
       "       [-3.04405681e-01,  4.50834284e-01, -2.34288294e-01],\n",
       "       [-2.37037211e-02,  8.97757986e-01,  1.22494675e+00],\n",
       "       [ 1.37980608e+00, -6.43913918e-01, -4.77494135e-01],\n",
       "       [-1.14651156e+00,  1.51452702e-01,  2.52123389e-01],\n",
       "       [-3.04405681e-01, -7.87516806e-01, -9.63905818e-01]])"
      ]
     },
     "execution_count": 56,
     "metadata": {},
     "output_type": "execute_result"
    },
    {
     "name": "stderr",
     "output_type": "stream",
     "text": [
      "C:\\ProgramData\\Anaconda3\\lib\\site-packages\\pandas\\core\\frame.py:3191: SettingWithCopyWarning: \n",
      "A value is trying to be set on a copy of a slice from a DataFrame.\n",
      "Try using .loc[row_indexer,col_indexer] = value instead\n",
      "\n",
      "See the caveats in the documentation: https://pandas.pydata.org/pandas-docs/stable/user_guide/indexing.html#returning-a-view-versus-a-copy\n",
      "  self[k1] = value[k2]\n"
     ]
    },
    {
     "data": {
      "text/plain": [
       "(300, 9)"
      ]
     },
     "execution_count": 56,
     "metadata": {},
     "output_type": "execute_result"
    }
   ],
   "source": [
    "ss = StandardScaler()\n",
    "ss.fit_transform(X_test[num_atr])\n",
    "le = LabelEncoder()\n",
    "X_test[cat_atr] = X_test[cat_atr].apply(le.fit_transform)\n",
    "a1 = X_test[cat_atr]\n",
    "b1 = ss.transform(X_test[num_atr])\n",
    "\n",
    "Xtr1 = np.hstack([a1,b1]) \n",
    "Xtr1.shape "
   ]
  },
  {
   "cell_type": "code",
   "execution_count": 57,
   "id": "900f8fa7",
   "metadata": {},
   "outputs": [],
   "source": [
    "dt = DecisionTreeClassifier(criterion=\"gini\", max_depth=None)"
   ]
  },
  {
   "cell_type": "code",
   "execution_count": 58,
   "id": "d8122de6",
   "metadata": {},
   "outputs": [
    {
     "data": {
      "text/plain": [
       "DecisionTreeClassifier()"
      ]
     },
     "execution_count": 58,
     "metadata": {},
     "output_type": "execute_result"
    }
   ],
   "source": [
    "dt.fit(Xtr,y_train)"
   ]
  },
  {
   "cell_type": "code",
   "execution_count": 59,
   "id": "463a0154",
   "metadata": {},
   "outputs": [],
   "source": [
    "y_pred = dt.predict(Xtr1)"
   ]
  },
  {
   "cell_type": "code",
   "execution_count": 60,
   "id": "761d1d6d",
   "metadata": {},
   "outputs": [
    {
     "data": {
      "text/plain": [
       "0.6566666666666666"
      ]
     },
     "execution_count": 60,
     "metadata": {},
     "output_type": "execute_result"
    }
   ],
   "source": [
    "np.sum((y_test == y_pred))/y_test.size"
   ]
  },
  {
   "cell_type": "code",
   "execution_count": 61,
   "id": "c13968ed",
   "metadata": {},
   "outputs": [
    {
     "data": {
      "text/plain": [
       "Index(['Age', 'Sex', 'Job', 'Housing', 'Saving accounts', 'Checking account',\n",
       "       'Credit amount', 'Duration', 'Purpose', 'Risk'],\n",
       "      dtype='object')"
      ]
     },
     "execution_count": 61,
     "metadata": {},
     "output_type": "execute_result"
    }
   ],
   "source": [
    "df.columns"
   ]
  },
  {
   "cell_type": "code",
   "execution_count": 62,
   "id": "162673f0",
   "metadata": {},
   "outputs": [
    {
     "data": {
      "image/png": "[encoded data removed]",
      "text/plain": [
       "<Figure size 1080x1080 with 1 Axes>"
      ]
     },
     "metadata": {},
     "output_type": "display_data"
    }
   ],
   "source": [
    "_=plt.figure(figsize=(15,15))\n",
    "_=plot_tree(\n",
    "            dt,\n",
    "            max_depth = 3,  # Draw upto depth of 3\n",
    "            rounded = True, # Rounded boxes\n",
    "            filled = True,  # Boxes filled with color\n",
    "            impurity = True,# Show impurity level\n",
    "            node_ids = True,# Display node_id\n",
    "            feature_names = ['Age', 'Sex', 'Job', 'Housing', 'Saving accounts', 'Checking account',\n",
    "       'Credit amount', 'Duration', 'Purpose'],\n",
    "            class_names = ['0',' 1']\n",
    "            )\n",
    "\n",
    "_=plt.show()"
   ]
  },
  {
   "cell_type": "markdown",
   "id": "2129bf7f",
   "metadata": {},
   "source": [
    "\n",
    "# RANDOM FOREST CLASSIFIER"
   ]
  },
  {
   "cell_type": "code",
   "execution_count": 63,
   "id": "a38c11a2",
   "metadata": {},
   "outputs": [],
   "source": [
    "from sklearn.ensemble import RandomForestClassifier"
   ]
  },
  {
   "cell_type": "code",
   "execution_count": 64,
   "id": "7c8ed0e4",
   "metadata": {},
   "outputs": [
    {
     "data": {
      "text/plain": [
       "RandomForestClassifier()"
      ]
     },
     "execution_count": 64,
     "metadata": {},
     "output_type": "execute_result"
    }
   ],
   "source": [
    "clf=RandomForestClassifier(n_estimators=100)\n",
    "clf.fit(Xtr,y_train)\n",
    "y_pred=clf.predict(Xtr1)"
   ]
  },
  {
   "cell_type": "code",
   "execution_count": 66,
   "id": "a0462205",
   "metadata": {},
   "outputs": [
    {
     "data": {
      "text/plain": [
       "array([[ 32,  54],\n",
       "       [ 25, 189]], dtype=int64)"
      ]
     },
     "execution_count": 66,
     "metadata": {},
     "output_type": "execute_result"
    }
   ],
   "source": [
    "from sklearn.metrics import classification_report\n",
    "from sklearn.metrics import confusion_matrix\n",
    "metrics.confusion_matrix(y_test, y_pred)"
   ]
  },
  {
   "cell_type": "code",
   "execution_count": 67,
   "id": "f00d20ee",
   "metadata": {},
   "outputs": [
    {
     "name": "stdout",
     "output_type": "stream",
     "text": [
      "              precision    recall  f1-score   support\n",
      "\n",
      "         bad       0.56      0.37      0.45        86\n",
      "        good       0.78      0.88      0.83       214\n",
      "\n",
      "    accuracy                           0.74       300\n",
      "   macro avg       0.67      0.63      0.64       300\n",
      "weighted avg       0.72      0.74      0.72       300\n",
      "\n"
     ]
    }
   ],
   "source": [
    "print(classification_report(y_test, y_pred))"
   ]
  },
  {
   "cell_type": "code",
   "execution_count": 69,
   "id": "36e2e2ae",
   "metadata": {},
   "outputs": [
    {
     "name": "stderr",
     "output_type": "stream",
     "text": [
      "<ipython-input-69-e2f2a420ee89>:1: UserWarning: Pandas doesn't allow columns to be created via a new attribute name - see https://pandas.pydata.org/pandas-docs/stable/indexing.html#attribute-access\n",
      "  df.feature_names = df[['Age', 'Sex', 'Job', 'Housing', 'Saving accounts', 'Checking account',\n",
      "<ipython-input-69-e2f2a420ee89>:3: UserWarning: Pandas doesn't allow columns to be created via a new attribute name - see https://pandas.pydata.org/pandas-docs/stable/indexing.html#attribute-access\n",
      "  df.target_names = df['Risk']\n"
     ]
    }
   ],
   "source": [
    "df.feature_names = df[['Age', 'Sex', 'Job', 'Housing', 'Saving accounts', 'Checking account',\n",
    "       'Credit amount', 'Duration', 'Purpose']]\n",
    "df.target_names = df['Risk']"
   ]
  },
  {
   "cell_type": "code",
   "execution_count": 70,
   "id": "d2d68e68",
   "metadata": {},
   "outputs": [
    {
     "data": {
      "text/plain": [
       "6    0.252098\n",
       "0    0.192938\n",
       "7    0.149322\n",
       "5    0.122582\n",
       "8    0.086669\n",
       "4    0.067271\n",
       "2    0.054814\n",
       "3    0.042159\n",
       "1    0.032148\n",
       "dtype: float64"
      ]
     },
     "execution_count": 70,
     "metadata": {},
     "output_type": "execute_result"
    }
   ],
   "source": [
    "import pandas as pd\n",
    "feature_imp = pd.Series(clf.feature_importances_).sort_values(ascending=False)\n",
    "feature_imp"
   ]
  },
  {
   "cell_type": "code",
   "execution_count": 71,
   "id": "556c2e78",
   "metadata": {},
   "outputs": [
    {
     "data": {
      "text/plain": [
       "[('Age', 0.25209819289831165),\n",
       " ('Sex', 0.19293768758207225),\n",
       " ('Job', 0.14932164091465336),\n",
       " ('Housing', 0.12258167834163886),\n",
       " ('Saving accounts', 0.08666862769353927),\n",
       " ('Checking account', 0.06727072190758707),\n",
       " ('Credit amount', 0.054814350721351456),\n",
       " ('Duration', 0.04215861159245894),\n",
       " ('Purpose', 0.03214848834838731)]"
      ]
     },
     "execution_count": 71,
     "metadata": {},
     "output_type": "execute_result"
    }
   ],
   "source": [
    "list(zip(df.columns, feature_imp))"
   ]
  },
  {
   "cell_type": "code",
   "execution_count": 72,
   "id": "c2091043",
   "metadata": {},
   "outputs": [
    {
     "data": {
      "text/plain": [
       "<AxesSubplot:>"
      ]
     },
     "execution_count": 72,
     "metadata": {},
     "output_type": "execute_result"
    },
    {
     "data": {
      "text/plain": [
       "Text(0.5, 0, 'Feature Importance Score')"
      ]
     },
     "execution_count": 72,
     "metadata": {},
     "output_type": "execute_result"
    },
    {
     "data": {
      "text/plain": [
       "Text(0, 0.5, 'Features')"
      ]
     },
     "execution_count": 72,
     "metadata": {},
     "output_type": "execute_result"
    },
    {
     "data": {
      "text/plain": [
       "Text(0.5, 1.0, 'Visualizing Important Features')"
      ]
     },
     "execution_count": 72,
     "metadata": {},
     "output_type": "execute_result"
    },
    {
     "name": "stderr",
     "output_type": "stream",
     "text": [
      "No handles with labels found to put in legend.\n"
     ]
    },
    {
     "data": {
      "text/plain": [
       "<matplotlib.legend.Legend at 0x1e675ece3d0>"
      ]
     },
     "execution_count": 72,
     "metadata": {},
     "output_type": "execute_result"
    },
    {
     "data": {
      "image/png": "[encoded data removed]",
      "text/plain": [
       "<Figure size 432x288 with 1 Axes>"
      ]
     },
     "metadata": {
      "needs_background": "light"
     },
     "output_type": "display_data"
    }
   ],
   "source": [
    "#visualizing feature importance results\n",
    "import matplotlib.pyplot as plt\n",
    "import seaborn as sns\n",
    "%matplotlib inline\n",
    "\n",
    "# Creating a bar plot\n",
    "sns.barplot(x=feature_imp, y=feature_imp.index)\n",
    "\n",
    "# Add labels to your graph\n",
    "plt.xlabel('Feature Importance Score')\n",
    "plt.ylabel('Features')\n",
    "plt.title(\"Visualizing Important Features\")\n",
    "plt.legend()\n",
    "plt.show()"
   ]
  },
  {
   "cell_type": "code",
   "execution_count": 74,
   "id": "7ebfe087",
   "metadata": {},
   "outputs": [
    {
     "name": "stdout",
     "output_type": "stream",
     "text": [
      "Accuracy: 0.7366666666666667\n"
     ]
    }
   ],
   "source": [
    "from sklearn import metrics\n",
    "print(\"Accuracy:\",metrics.accuracy_score(y_test, y_pred))"
   ]
  },
  {
   "cell_type": "code",
   "execution_count": 73,
   "id": "b80ff8be",
   "metadata": {},
   "outputs": [
    {
     "name": "stdout",
     "output_type": "stream",
     "text": [
      "              precision    recall  f1-score   support\n",
      "\n",
      "         bad       0.56      0.37      0.45        86\n",
      "        good       0.78      0.88      0.83       214\n",
      "\n",
      "    accuracy                           0.74       300\n",
      "   macro avg       0.67      0.63      0.64       300\n",
      "weighted avg       0.72      0.74      0.72       300\n",
      "\n"
     ]
    }
   ],
   "source": [
    "print(classification_report(y_test, y_pred))"
   ]
  },
  {
   "cell_type": "code",
   "execution_count": null,
   "id": "4ecc9a25",
   "metadata": {},
   "outputs": [],
   "source": []
  }
 ],
 "metadata": {
  "kernelspec": {
   "display_name": "Python 3",
   "language": "python",
   "name": "python3"
  },
  "language_info": {
   "codemirror_mode": {
    "name": "ipython",
    "version": 3
   },
   "file_extension": ".py",
   "mimetype": "text/x-python",
   "name": "python",
   "nbconvert_exporter": "python",
   "pygments_lexer": "ipython3",
   "version": "3.8.8"
  }
 },
 "nbformat": 4,
 "nbformat_minor": 5
}
